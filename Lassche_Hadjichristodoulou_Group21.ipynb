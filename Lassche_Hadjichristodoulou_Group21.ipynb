{
 "cells": [
  {
   "cell_type": "markdown",
   "metadata": {
    "id": "wORfnENaVBOo"
   },
   "source": [
    "# <p style=\"text-align:center\"> <span style=\"color:blue\">[WMCS011-05] Pattern Recognition (for CS) 2022-2023 </span></p>\n",
    "\n",
    "## <p style=\"text-align:center\"> $2^{nd}$ practical: Convolutional neural networks</p>"
   ]
  },
  {
   "cell_type": "markdown",
   "metadata": {
    "id": "vVZt8QGAVi5K"
   },
   "source": [
    "### $$ \\text{Group X} $$\n",
    "### $$ \\text{Student 1}  \\quad \\& \\quad \\text{Student 2}  $$"
   ]
  },
  {
   "cell_type": "markdown",
   "metadata": {
    "id": "Xu8bm6H3WEZs"
   },
   "source": [
    "## **Information and instructions**\n",
    "*   <span style=\"color:red\">**DEADLINE**</span>  Tuesday 20 December 2022 **before** 23:59PM. Hand in this file *containing your code and answers added* through Brightspace.\n",
    "*   This is a group assignment (should be done in pairs). \n",
    "*  Insert a Markdown cell (where needed) and **add the formulas** you used to answer a question, as well as a short description of how you came up with your solution.\n",
    "*   Some exercises ask you to find a specific value or expression or ask you for an interpretation. Insert a Markdown cell and provide your answers briefly.\n",
    "* Make sure to include all the necessary print statements and remove the extra ones that were only used for testing your implementation. \n",
    "*   Please ensure that all your figures are properly labeled with title, axis labels, and legend if you plot multiple curves in one graph.\n",
    "*   Structure your code using comments and separate code cells where necessary, and be sure to indicate which part of your code belongs to which question.\n",
    "*   To test your code, we will run all your code cells from scratch - so make sure all results can be reproduced!\n",
    "* For any questions, you can contact us at [pr2022rug@gmail.com](pr2022rug@gmail.com)."
   ]
  },
  {
   "cell_type": "markdown",
   "metadata": {
    "id": "kuxTcxVJWi5E"
   },
   "source": [
    "## Table of Contents\n",
    "* [Exercise 1 - Get a running ResNet for image classfication (30pt)](#chapter1)\n",
    "* [Exercise 2 - Understand and tweak the codes (30 pt)](#chapter2)\n",
    "* [Exercise 3 - Construct your own convolutional network for image classification (40 pt)](#chapter3)\n",
    "\n",
    "* [Contributions](#chapter4)"
   ]
  },
  {
   "cell_type": "markdown",
   "metadata": {},
   "source": [
    "In this assignment, you will gain some hands-on experience in using *Convolutional Neural Networks (CNNs)*.\n",
    "\n",
    "\n",
    "You are highly recommended to use Google Colab to set up your experimental environment. Colab is a free online platform to enable writing and executing arbitrary python code through the browser. It is a hosted Jupyter Notebook service that requires no setup to use while providing free access to computing resources including GPUs. For detailed information, please have a look [here](https://colab.research.google.com/). \n",
    "\n",
    "\n",
    "**PS** The code used in this exercise is partly taken from [this](https://github.com/kuangliu/pytorch-cifar) GitHub repository. If you are interested in the full version with more examples of other CNN architectures, please check the repo. "
   ]
  },
  {
   "cell_type": "markdown",
   "metadata": {
    "id": "5BzFFvW0P4ra"
   },
   "source": [
    "# <span style=\"color:blue\">Exercise 1 - Get a running ResNet for CIFAR-10 image classfication (30pt)  <a class=\"anchor\" id=\"chapter1\"></a></span>\n"
   ]
  },
  {
   "cell_type": "markdown",
   "metadata": {
    "id": "g6CS3AbMJr9k"
   },
   "source": [
    "**Step 1:** Upload the file *[Surname1]\\_[Surname2]\\_[GroupNumber].ipynb* to your google drive and then open it through colab. "
   ]
  },
  {
   "cell_type": "markdown",
   "metadata": {
    "id": "Kj18VOESKHXg"
   },
   "source": [
    "**Step 2:** On Brightspace, you will find the PyTorch implementation of ResNet-18. Unzip the file and upload the folder to your google drive."
   ]
  },
  {
   "cell_type": "markdown",
   "metadata": {
    "id": "s87D7Km5Ka8e"
   },
   "source": [
    "**Step 3:** Mount your Google Drive to the colab notebook through the code snippet below."
   ]
  },
  {
   "cell_type": "code",
   "execution_count": null,
   "metadata": {
    "id": "UX6fFoHGKs8f"
   },
   "outputs": [],
   "source": [
    "from google.colab import drive\n",
    "\n",
    "drive.mount('/content/gdrive')\n",
    "root_path = 'gdrive/MyDrive/your_project_folder/'  # Change dir to your project folder"
   ]
  },
  {
   "cell_type": "markdown",
   "metadata": {},
   "source": [
    "**Step 4:** Modify the *main.py* to keep track of the classification performance, e.g., loss and accuracy metrics, for both the training and test set throughout the epochs."
   ]
  },
  {
   "cell_type": "markdown",
   "metadata": {
    "id": "Gdgl4gpsNQU7"
   },
   "source": [
    "**Step 5:** Execute the code. Before running it, make sure to set:\n",
    "\n",
    "$$ \\textbf{Runtime -> change Runtime type to 'GPU'}$$ \n",
    "<br>\n",
    "\n",
    "$$ \\text{Otherwise, it may take forever to run the code!} $$\n"
   ]
  },
  {
   "cell_type": "code",
   "execution_count": null,
   "metadata": {
    "id": "I_Djt8awCYTr"
   },
   "outputs": [],
   "source": [
    "# Run the main function\n",
    "! python /content/gdrive/MyDrive/your_project_folder/ResNet18_cifar10_lab2/main.py  # Change 'your_project_folder' to your project folder"
   ]
  },
  {
   "cell_type": "markdown",
   "metadata": {
    "id": "8oS84QXuU82N"
   },
   "source": [
    "**Step 6:** Observe the results you got, e.g., the corresponding loss or accuracy for a certain epoch. Plot the results you got in terms of loss and accuracy for both the training and test sets as the number of epochs increases (one figure for the loss and one for the accuracy). The *x*-axis denotes the epoch number while the *y*-axis indicates the corresponding loss and accuracy."
   ]
  },
  {
   "cell_type": "markdown",
   "metadata": {
    "id": "T36qLb0aVZrt"
   },
   "source": [
    "*Your answers here:*\n",
    "\n",
    "\n"
   ]
  },
  {
   "cell_type": "markdown",
   "metadata": {
    "id": "lvVWG4cJVp79"
   },
   "source": [
    "# <span style=\"color:blue\">Exercise 2 - Understand \\& tweak the code (30pt)  <a class=\"anchor\" id=\"chapter2\"></a></span>\n",
    "\n"
   ]
  },
  {
   "cell_type": "markdown",
   "metadata": {
    "id": "SUeOkNrSXVZc"
   },
   "source": [
    "**<span style=\"color:blue\"> A. </span> Data-related questions:**\n",
    "1. **Briefly describe the $\\text{CIFAR-10}$ dataset used in this implementation, incl. the types of images and categories.**\n",
    "<br>\n",
    "\n",
    "2. **What are the $\\text{transformations}$ used for data augmentation?**"
   ]
  },
  {
   "cell_type": "markdown",
   "metadata": {
    "id": "ueS0X95oalfm"
   },
   "source": [
    "*Your answers here:*"
   ]
  },
  {
   "cell_type": "markdown",
   "metadata": {
    "id": "pTjCXOgXaRtA"
   },
   "source": [
    " **<span style=\"color:blue\"> B. </span> Model-related questions:**\n",
    "\n",
    "1. **What is an optimizer? What is the initial learning rate? You can change the value of the initial learning rate and check how it affects the model performance (fast or slow convergence). You can add here the relevant figures.**\n",
    "<br>\n",
    "\n",
    "2. **Confirm the size of the feature maps after each convolution block. Display the feature maps. You will need a library such as $matplotlib$ or $plotly$ to visualize the images.**"
   ]
  },
  {
   "cell_type": "markdown",
   "metadata": {
    "id": "NX5F62Qzavsq"
   },
   "source": [
    "*Your answers here:*"
   ]
  },
  {
   "cell_type": "markdown",
   "metadata": {},
   "source": [
    "# <span style=\"color:blue\">Exercise 3 - Construct your own convolutional network for CIFAR-10 image classification (40pt)  <a class=\"anchor\" id=\"chapter3\"></a></span>\n",
    "\n",
    "\n",
    "**Replace the $\\text{ResNet-18}$ with a convolutional neural network $\\text{designed by yourself}$. This network should have four (4) layers with trainable parameters. Add a figure to describe the architecture of your CNN. Specify the corresponding $\\text{hyper-parameters}$ and $\\text{trainable parameters}$ used in every layer of your network. Calculate manually the output size of each layer using the equations provided in the lecture slides. What is the total number of trainable parameters of your network? Report the results you get after a certain number of epochs and compare them with the results from ResNet-18.**\n"
   ]
  },
  {
   "cell_type": "markdown",
   "metadata": {
    "id": "EDVxCMejUyL3"
   },
   "source": [
    "*Your answers here:*"
   ]
  },
  {
   "cell_type": "markdown",
   "metadata": {
    "id": "dCigCczieSuo"
   },
   "source": [
    "# <span style=\"color:blue\">Contributions<a class=\"anchor\" id=\"chapter4\"></a></span>"
   ]
  }
 ],
 "metadata": {
  "accelerator": "GPU",
  "colab": {
   "authorship_tag": "ABX9TyOiGJz3cQozGF/GpWAiDo7h",
   "provenance": [
    {
     "file_id": "1ZpGxDAavItXWuSWascCLYTw4pbVKy78J",
     "timestamp": 1670058485468
    }
   ]
  },
  "kernelspec": {
   "display_name": "Python 3 (ipykernel)",
   "language": "python",
   "name": "python3"
  },
  "language_info": {
   "codemirror_mode": {
    "name": "ipython",
    "version": 3
   },
   "file_extension": ".py",
   "mimetype": "text/x-python",
   "name": "python",
   "nbconvert_exporter": "python",
   "pygments_lexer": "ipython3",
   "version": "3.8.11"
  }
 },
 "nbformat": 4,
 "nbformat_minor": 1
}
